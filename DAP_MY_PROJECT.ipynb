{
 "cells": [
  {
   "cell_type": "code",
   "execution_count": 1,
   "id": "5efa01c9",
   "metadata": {},
   "outputs": [],
   "source": [
    "import matplotlib.pyplot as plt\n",
    "import pandas as pd\n",
    "import json\n",
    "import urllib.request\n",
    "import xml.etree.ElementTree as ET\n",
    "import plotly.graph_objects as go\n",
    "import plotly.io as pio\n",
    "import psycopg2\n",
    "import seaborn as sns\n",
    "\n",
    "\n",
    "from datetime import datetime\n",
    "from pymongo import MongoClient"
   ]
  },
  {
   "cell_type": "code",
   "execution_count": 2,
   "id": "78bee2ab",
   "metadata": {},
   "outputs": [],
   "source": [
    "# Connecting to MongoDB\n",
    "mongo_client = MongoClient(\"mongodb://localhost:27017/\")\n",
    "project_db = mongo_client[\"projectdb\"]"
   ]
  },
  {
   "cell_type": "code",
   "execution_count": 3,
   "id": "f7beaec8",
   "metadata": {
    "scrolled": true
   },
   "outputs": [
    {
     "name": "stdout",
     "output_type": "stream",
     "text": [
      "Inserted unemployment_statistics document count:  1689\n"
     ]
    }
   ],
   "source": [
    "# Reading unemployment-statistics data\n",
    "unemployment_statistics_url = \"https://data.ny.gov/api/views/dh9m-5v4d/rows.json?accessType=DOWNLOAD\"\n",
    "unemployment_statistics_response = urllib.request.urlopen(unemployment_statistics_url)\n",
    "unemployment_statistics_data = json.loads(unemployment_statistics_response.read())\n",
    "\n",
    "# inserting into mongoDB\n",
    "unemployment_statistics_collection = project_db[\"unemployment_statistics\"]\n",
    "# deleting extising data\n",
    "unemployment_statistics_collection.drop()\n",
    "\n",
    "cols = unemployment_statistics_data[\"meta\"][\"view\"][\"columns\"]\n",
    "cols_without_minus_one = filter(lambda val: val[\"id\"] != -1, cols)\n",
    "unemployment_statistics_cols = list(cols_without_minus_one)\n",
    "\n",
    "unemployment_statistics_cols_others_len = len(list(filter(lambda val: val[\"id\"] == -1, cols)))\n",
    "\n",
    "for row in unemployment_statistics_data[\"data\"]:\n",
    "    db_row = {}\n",
    "    for col_meta in unemployment_statistics_cols:\n",
    "        data_value_index = int(col_meta[\"position\"]) + unemployment_statistics_cols_others_len - 1\n",
    "        db_row[col_meta[\"fieldName\"]] = row[data_value_index]\n",
    "    unemployment_statistics_collection.insert_one(db_row)\n",
    "\n",
    "print(\"Inserted unemployment_statistics document count: \", unemployment_statistics_collection.count_documents({}))"
   ]
  },
  {
   "cell_type": "code",
   "execution_count": 4,
   "id": "24af0f49",
   "metadata": {},
   "outputs": [
    {
     "name": "stdout",
     "output_type": "stream",
     "text": [
      "Inserted covid_cases document count:  1019\n"
     ]
    }
   ],
   "source": [
    "# Reading covid_cases\n",
    "covid_cases_url = \"https://data.cityofnewyork.us/api/views/rc75-m7u3/rows.json?accessType=DOWNLOAD\"\n",
    "covid_cases_response = urllib.request.urlopen(covid_cases_url)\n",
    "covid_cases_data = json.loads(covid_cases_response.read())\n",
    "\n",
    "# inserting into mongoDB\n",
    "covid_cases_collection = project_db[\"covid_cases\"]\n",
    "# deleting extising data\n",
    "covid_cases_collection.drop()\n",
    "\n",
    "\n",
    "covid_cases_cols = list(filter(lambda val: val[\"id\"] != -1, covid_cases_data[\"meta\"][\"view\"][\"columns\"]))\n",
    "covid_cases_cols_others_len = len(list(filter(lambda val: val[\"id\"] == -1, covid_cases_data[\"meta\"][\"view\"][\"columns\"])))\n",
    "\n",
    "\n",
    "for row in covid_cases_data[\"data\"]:\n",
    "    db_row = {}\n",
    "    for col in covid_cases_cols:\n",
    "        db_row[col[\"fieldName\"].lower()] = row[int(col[\"position\"]) + covid_cases_cols_others_len - 1]\n",
    "    covid_cases_collection.insert_one(db_row)\n",
    "\n",
    "print(\"Inserted covid_cases document count: \",covid_cases_collection.count_documents({}))"
   ]
  },
  {
   "cell_type": "code",
   "execution_count": 5,
   "id": "2cab8013",
   "metadata": {},
   "outputs": [
    {
     "name": "stdout",
     "output_type": "stream",
     "text": [
      "Inserted air_quality document count:  16122\n"
     ]
    }
   ],
   "source": [
    "# Reading air_quality\n",
    "air_quality_url = \"https://data.cityofnewyork.us/api/views/c3uy-2p5r/rows.xml?accessType=DOWNLOAD\"\n",
    "air_quality_response = urllib.request.urlopen(air_quality_url)\n",
    "air_quality_xml = ET.parse(air_quality_response)\n",
    "air_quality_xml_root = air_quality_xml.getroot()\n",
    "air_quality_data = []\n",
    "\n",
    "# inserting into mongoDB\n",
    "air_quality_collection = project_db[\"air_quality\"]\n",
    "# deleting extising data\n",
    "air_quality_collection.drop()\n",
    "\n",
    "for row in air_quality_xml_root[0].findall('row'):\n",
    "    air_quality_data_row = {}\n",
    "    for elem in row.iter():\n",
    "        if elem is not row:\n",
    "            key = elem.tag.lower()\n",
    "            value = elem.text\n",
    "            #{\"key\":\"value\"}             \n",
    "            air_quality_data_row[key] = value\n",
    "    if len(air_quality_data_row) != 0:\n",
    "        air_quality_collection.insert_one(air_quality_data_row)\n",
    "print(\"Inserted air_quality document count: \", air_quality_collection.count_documents({}))"
   ]
  },
  {
   "cell_type": "code",
   "execution_count": null,
   "id": "62be045d",
   "metadata": {},
   "outputs": [],
   "source": [
    "#  MongoDB collections\n",
    "# 1. unemployment_statistics_collection\n",
    "# 2. covid_cases_collection\n",
    "# 3. air_quality_collection"
   ]
  },
  {
   "cell_type": "code",
   "execution_count": null,
   "id": "c548612f",
   "metadata": {},
   "outputs": [],
   "source": [
    "# creating table in postgress\n",
    "conn = psycopg2.connect(database=\"postgres\",\n",
    "                        host=\"localhost\",\n",
    "                        user=\"postgres\",\n",
    "                        password=\"admin\",\n",
    "                        port=\"5432\")\n",
    "\n",
    "cursor = conn.cursor()\n",
    "cursor.execute(\"DROP TABLE IF EXISTS unemployment_statistics;CREATE TABLE unemployment_statistics (unemployment_statistics_id serial PRIMARY KEY, date_of_interest TIMESTAMP NOT NULL, area VARCHAR(255), labor_force BIGINT, employed BIGINT, unemployed BIGINT, unemployment_rate REAL);\")\n",
    "cursor.execute(\"DROP TABLE IF EXISTS covid_cases;CREATE TABLE covid_cases (covid_cases_id serial PRIMARY KEY, date_of_interest TIMESTAMP NOT NULL, case_count INTEGER);\")\n",
    "cursor.execute(\"DROP TABLE IF EXISTS air_quality;CREATE TABLE air_quality (air_quality_id serial PRIMARY KEY, date_of_interest TIMESTAMP NOT NULL, data_value REAL);\")\n",
    "\n",
    "conn.commit()"
   ]
  },
  {
   "cell_type": "code",
   "execution_count": null,
   "id": "d45877ca",
   "metadata": {},
   "outputs": [],
   "source": [
    "unemployment_statistics_collection = project_db[\"unemployment_statistics\"]\n",
    "query = \"\"\"INSERT INTO unemployment_statistics \n",
    "    (date_of_interest, area, labor_force, employed, unemployed, unemployment_rate) \n",
    "    VALUES (%s,%s,%s,%s,%s,%s)\"\"\"\n",
    "cursor = conn.cursor()\n",
    "for row in unemployment_statistics_collection.find():\n",
    "    date = row[\"year\"]+\"-\"+row[\"month\"]+\"-01\"\n",
    "    cursor.execute(query, (date, row[\"area\"], row[\"labor_force\"], row[\"employed\"], \n",
    "                           row[\"unemployed\"], row[\"unemployment_rate\"]))\n",
    "cursor.close()\n",
    "conn.commit()"
   ]
  },
  {
   "cell_type": "code",
   "execution_count": null,
   "id": "535f2230",
   "metadata": {},
   "outputs": [],
   "source": [
    "covid_cases_collection = project_db[\"covid_cases\"]\n",
    "\n",
    "cursor = conn.cursor()\n",
    "for row in covid_cases_collection.find():\n",
    "    date = row[\"date_of_interest\"]\n",
    "    cursor.execute(\"INSERT INTO covid_cases (date_of_interest, case_count) VALUES (%s,%s)\", \n",
    "                   (date, row[\"case_count\"]))\n",
    "cursor.close()\n",
    "conn.commit()"
   ]
  },
  {
   "cell_type": "code",
   "execution_count": null,
   "id": "7fadf2d1",
   "metadata": {},
   "outputs": [],
   "source": [
    "air_quality_collection = project_db[\"air_quality\"]\n",
    "\n",
    "cursor = conn.cursor()\n",
    "for row in air_quality_collection.find():\n",
    "    date = row[\"start_date\"]\n",
    "    cursor.execute(\"INSERT INTO air_quality (date_of_interest, data_value) VALUES (%s,%s)\", \n",
    "                   (date, row[\"data_value\"]))\n",
    "cursor.close()\n",
    "conn.commit()"
   ]
  },
  {
   "cell_type": "code",
   "execution_count": null,
   "id": "1bdfbc36",
   "metadata": {},
   "outputs": [],
   "source": [
    "cursor = conn.cursor();\n",
    "query = \"\"\"\n",
    "SELECT date_of_interest, AVG(unemployment_rate)\n",
    "    FROM unemployment_statistics \n",
    "    WHERE date_of_interest >= '2020-01-01' and date_of_interest < '2022-01-01'\n",
    "    GROUP BY date_of_interest ORDER BY date_of_interest ASC \n",
    "\n",
    "\"\"\"\n",
    "\n",
    "    \n",
    "cursor.execute(query)\n",
    "unemployment_rate_data = cursor.fetchall()\n",
    "cursor.close()\n",
    "\n",
    "# print(unemployment_rate_data)"
   ]
  },
  {
   "cell_type": "code",
   "execution_count": null,
   "id": "3f50e65a",
   "metadata": {},
   "outputs": [],
   "source": [
    "\n",
    "unemployment_rate_df = pd.DataFrame(data = unemployment_rate_data,\n",
    "                                   columns=[\"Date\",\n",
    "                                            \"Unemployment Rate\"])\n",
    "\n",
    "# x_dates = unemployment_rate_df['Date'].dt.strftime('%Y-%m-%d').sort_values().unique()\n",
    "\n",
    "fig, ax = plt.subplots(figsize = (12,6))\n",
    "\n",
    "fig = sns.barplot(\n",
    "    data=unemployment_rate_df, \n",
    "    x=\"Date\", \n",
    "    y=\"Unemployment Rate\",\n",
    "    ax=ax\n",
    ")\n",
    "\n",
    "x_dates = unemployment_rate_df['Date'].dt.strftime('%Y-%m-%d').sort_values().unique()\n",
    "arr = ax.set_xticklabels(labels=x_dates, rotation=45, ha='right')\n"
   ]
  },
  {
   "cell_type": "code",
   "execution_count": null,
   "id": "a6bc1dfa",
   "metadata": {},
   "outputs": [],
   "source": [
    "cursor = conn.cursor();\n",
    "cursor.execute(\"\"\"SELECT date_of_interest, avg(case_count) \n",
    "    FROM covid_cases  \n",
    "    WHERE date_of_interest >= '2020-01-01' and date_of_interest < '2022-01-01'\n",
    "    group by date_of_interest order by date_of_interest asc\"\"\")\n",
    "covid_cases_data = cursor.fetchall()\n",
    "cursor.close()\n",
    "\n",
    "\n",
    "covid_cases_data_df = pd.DataFrame(data = covid_cases_data,\n",
    "                                   columns=[\"Date\",\n",
    "                                            \"Case Count\"])\n",
    "\n",
    "fig, ax = plt.subplots(figsize = (12,6))\n",
    "fig = sns.lineplot(data = covid_cases_data_df, \n",
    "                   x=\"Date\", \n",
    "                   y=\"Case Count\",\n",
    "                   ax=ax\n",
    "                  )\n",
    "\n"
   ]
  },
  {
   "cell_type": "code",
   "execution_count": null,
   "id": "443b0264",
   "metadata": {},
   "outputs": [],
   "source": [
    "cursor = conn.cursor();\n",
    "query = \"\"\"\n",
    "SELECT date_of_interest, avg(data_value) \n",
    "    FROM air_quality\n",
    "    WHERE date_of_interest >= '2020-01-01' and date_of_interest < '2022-01-01'\n",
    "    GROUP BY  date_of_interest order by date_of_interest asc\n",
    "\"\"\"\n",
    "cursor.execute(query)\n",
    "air_quality_data = cursor.fetchall()\n",
    "cursor.close()\n",
    "\n",
    "\n",
    "air_quality_data_df = pd.DataFrame(data = air_quality_data,\n",
    "                                   columns=[\"Date\",\n",
    "                                            \"Air Auality Data Value\"])\n",
    "\n",
    "# print(air_quality_data_df)\n",
    "fig, ax = plt.subplots(figsize = (12,6))\n",
    "\n",
    "fig = sns.scatterplot(data = air_quality_data_df, x=\"Date\", y=\"Air Auality Data Value\", ax=ax)\n"
   ]
  },
  {
   "cell_type": "code",
   "execution_count": null,
   "id": "a4727582",
   "metadata": {},
   "outputs": [],
   "source": [
    "unemployment_rate_df.head()"
   ]
  },
  {
   "cell_type": "code",
   "execution_count": null,
   "id": "41663eaa",
   "metadata": {},
   "outputs": [],
   "source": [
    "covid_cases_data_df.head()"
   ]
  },
  {
   "cell_type": "code",
   "execution_count": null,
   "id": "512c5167",
   "metadata": {},
   "outputs": [],
   "source": [
    "air_quality_data_df.head()"
   ]
  },
  {
   "cell_type": "code",
   "execution_count": null,
   "id": "7a4edf81",
   "metadata": {},
   "outputs": [],
   "source": [
    "quality_covid_cases_air_quality_df = pd.merge(air_quality_data_df, covid_cases_data_df, how=\"outer\", on =\"Date\")\n",
    "all_data = pd.merge(quality_covid_cases_air_quality_df, unemployment_rate_df, how=\"left\", on =\"Date\")\n",
    "\n",
    "all_data[\"Air Auality Data Value\"] = all_data[\"Air Auality Data Value\"].fillna(0)\n",
    "all_data[\"Covid Case Count\"] = all_data[\"Case Count\"].fillna(0)\n",
    "all_data[\"Unemployment Rate\"] = all_data[\"Unemployment Rate\"].fillna(0)\n",
    "\n",
    "print(all_data)\n"
   ]
  },
  {
   "cell_type": "code",
   "execution_count": null,
   "id": "f84751f9",
   "metadata": {},
   "outputs": [],
   "source": [
    "ig, ax = plt.subplots(figsize = (12,6))\n",
    "\n",
    "fig = sns.scatterplot(data = all_data, \n",
    "                      x=\"Date\", \n",
    "                      y=\"Unemployment Rate\", \n",
    "                      hue=\"Covid Case Count\", \n",
    "                      size=\"Air Auality Data Value\", ax=ax)\n",
    "\n",
    "\n",
    "x_dates = unemployment_rate_df['Date'].dt.strftime('%Y-%m-%d').sort_values().unique()\n",
    "arr = ax.set_xticklabels(labels=x_dates, rotation=45, ha='right')\n"
   ]
  },
  {
   "cell_type": "code",
   "execution_count": null,
   "id": "a3f0da26",
   "metadata": {},
   "outputs": [],
   "source": [
    "bar_data = go.Bar(\n",
    "          x = \"Covid Case Count\",\n",
    "          y = \"Unemployment Rate\",\n",
    "          name = 'Total Sales',\n",
    "          yaxis = 'y1'\n",
    ")\n",
    "\n",
    "line_data = go.Bar(\n",
    "          x = [2, 5, 7],\n",
    "          y = [40, 50, 60],\n",
    "          yaxis = 'y2'\n",
    ") \n",
    "\n",
    "\n",
    "\n",
    "data = [bar_data, line_data]\n",
    "\n",
    "layout = go.Layout(\n",
    "    barmode='group',\n",
    "    title = 'Total sales and quantity ordered',\n",
    "    hovermode = 'closest',\n",
    "    \n",
    "    xaxis=dict(title='Name of Product',\n",
    "                showline=True,\n",
    "                showgrid=False,\n",
    "                showticklabels=True,\n",
    "                linecolor='rgb(104, 204, 104)',\n",
    "                linewidth=2,\n",
    "                ticks='outside',\n",
    "         tickfont=dict(\n",
    "                family='Arial',\n",
    "                size=12,\n",
    "                color='rgb(82, 82, 82)',\n",
    "        ),\n",
    "               \n",
    "    ),\n",
    "    yaxis=dict(title='Total Sales'),\n",
    "    yaxis2=dict(title='Total quantity ordered', side='right',overlaying='y'),\n",
    "    \n",
    "     legend=dict(\n",
    "        orientation='v',\n",
    "        bgcolor='rgba(255, 255, 255, 0)',\n",
    "        bordercolor='rgba(255, 255, 255, 0)',\n",
    "        x=0.79,\n",
    "        y=0.97,\n",
    "        traceorder=\"normal\",\n",
    "        font=dict(\n",
    "            family=\"sans-serif\",\n",
    "            size=12,\n",
    "            color=\"black\"\n",
    "        ),\n",
    "    )\n",
    "    \n",
    ")\n",
    "\n",
    "figure2 = go.Figure(data=data, layout=layout)\n",
    "figure2.update_layout(uniformtext_minsize=10, uniformtext_mode='hide')\n",
    "figure2.update_layout(legend_title='<b> Trend </b>')\n",
    "\n",
    "figure2.update_layout(\n",
    "    title_font_family=\"Times New Roman\",\n",
    "    title_font_color=\"red\",\n",
    "    title_font_size=30,\n",
    "    legend_title_font_color=\"green\")\n",
    "\n",
    "figure2.update_layout(\n",
    "    title={\n",
    "        'text': 'Total sales and quantity ordered',\n",
    "        'y':0.9,\n",
    "        'x':0.5,\n",
    "        'xanchor': 'center',\n",
    "        'yanchor': 'top'})\n",
    "\n",
    "\n",
    "figure2.show()"
   ]
  },
  {
   "cell_type": "code",
   "execution_count": null,
   "id": "b49a588a",
   "metadata": {},
   "outputs": [],
   "source": []
  }
 ],
 "metadata": {
  "kernelspec": {
   "display_name": "Python 3 (ipykernel)",
   "language": "python",
   "name": "python3"
  },
  "language_info": {
   "codemirror_mode": {
    "name": "ipython",
    "version": 3
   },
   "file_extension": ".py",
   "mimetype": "text/x-python",
   "name": "python",
   "nbconvert_exporter": "python",
   "pygments_lexer": "ipython3",
   "version": "3.9.12"
  }
 },
 "nbformat": 4,
 "nbformat_minor": 5
}
