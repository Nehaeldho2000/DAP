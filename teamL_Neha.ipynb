{
 "cells": [
  {
   "cell_type": "code",
   "execution_count": null,
   "id": "d96f6822",
   "metadata": {},
   "outputs": [],
   "source": [
    "#Inserted XML data to MongoDB(Air Quality Dataset)\n",
    "\n",
    "# Reading air_quality\n",
    "air_quality_url = \"https://data.cityofnewyork.us/api/views/c3uy-2p5r/rows.xml?accessType=DOWNLOAD\"\n",
    "air_quality_response = urllib.request.urlopen(air_quality_url)\n",
    "air_quality_xml = ET.parse(air_quality_response)\n",
    "air_quality_xml_root = air_quality_xml.getroot()\n",
    "air_quality_data = []\n",
    "\n",
    "# inserting into mongoDB\n",
    "air_quality_collection = project_db[\"air_quality\"]\n",
    "# deleting extising data\n",
    "air_quality_collection.drop()\n",
    "\n",
    "for row in air_quality_xml_root[0].findall('row'):\n",
    "    air_quality_data_row = {}\n",
    "    for elem in row.iter():\n",
    "        if elem is not row:\n",
    "            key = elem.tag.lower()\n",
    "            value = elem.text\n",
    "            #{\"key\":\"value\"}             \n",
    "            air_quality_data_row[key] = value\n",
    "    if len(air_quality_data_row) != 0:\n",
    "        air_quality_collection.insert_one(air_quality_data_row)\n",
    "print(\"Inserted air_quality document count: \", air_quality_collection.count_documents({}))"
   ]
  },
  {
   "cell_type": "code",
   "execution_count": null,
   "id": "346aef7a",
   "metadata": {},
   "outputs": [],
   "source": [
    "#inserted values in air quality table\n",
    "air_quality_collection = project_db[\"air_quality\"]\n",
    "\n",
    "cursor = conn.cursor()\n",
    "for row in air_quality_collection.find():\n",
    "    date = row[\"start_date\"]\n",
    "    cursor.execute(\"INSERT INTO air_quality (date_of_interest, data_value) VALUES (%s,%s)\", \n",
    "                   (date, row[\"data_value\"]))\n",
    "cursor.close()\n",
    "conn.commit()"
   ]
  },
  {
   "cell_type": "code",
   "execution_count": null,
   "id": "cdcbef1d",
   "metadata": {},
   "outputs": [],
   "source": [
    "#Plots using seaborn library (2nd plot)\n",
    "cursor = conn.cursor();\n",
    "cursor.execute(\"\"\"SELECT date_of_interest, avg(case_count) \n",
    "    FROM covid_cases  \n",
    "    WHERE date_of_interest >= '2020-01-01' and date_of_interest < '2021-01-01'\n",
    "    group by date_of_interest order by date_of_interest asc\"\"\")\n",
    "covid_cases_data = cursor.fetchall()\n",
    "cursor.close()\n",
    "\n",
    "\n",
    "covid_cases_data_df = pd.DataFrame(data = covid_cases_data,\n",
    "                                   columns=[\"Date\",\n",
    "                                            \"Covid Case Count\"])\n",
    "fig, ax = plt.subplots(figsize = (12,6))\n",
    "\n",
    "fig = sns.scatterplot(data = covid_cases_data_df, \n",
    "                   x=\"Date\", \n",
    "                   y=\"Covid Case Count\",\n",
    "                   ax=ax\n",
    "                  )"
   ]
  },
  {
   "cell_type": "code",
   "execution_count": null,
   "id": "7c97eb0d",
   "metadata": {},
   "outputs": [],
   "source": [
    "#Plots using seaborn library (3rd plot)\n",
    "\n",
    "cursor = conn.cursor();\n",
    "query = \"\"\"\n",
    "SELECT date_of_interest, avg(data_value) \n",
    "    FROM air_quality\n",
    "    WHERE date_of_interest >= '2020-01-01' and date_of_interest < '2022-01-01'\n",
    "    GROUP BY  date_of_interest order by date_of_interest asc\n",
    "\"\"\"\n",
    "cursor.execute(query)\n",
    "air_quality_data = cursor.fetchall()\n",
    "cursor.close()\n",
    "\n",
    "\n",
    "air_quality_data_modified = []\n",
    "for x in range(12):\n",
    "    date = datetime(2020, x+1, 1)\n",
    "    if x < 6:\n",
    "        key, value = air_quality_data[0]\n",
    "        air_quality_data_modified.append((date, value))\n",
    "    else:\n",
    "        key, value = air_quality_data[1]\n",
    "        air_quality_data_modified.append((date, value))\n",
    "\n",
    "air_quality_data_df = pd.DataFrame(data = air_quality_data_modified,\n",
    "                                   columns=[\"Date\", \"Air Quality Data Value\"])\n",
    "fig, ax = plt.subplots(figsize = (12,6))\n",
    "\n",
    "fig = sns.barplot(data = air_quality_data_df, x=\"Date\", y=\"Air Quality Data Value\", ax=ax)\n",
    "\n",
    "x_dates = air_quality_data_df['Date'].dt.strftime('%Y-%m-%d').sort_values().unique()\n",
    "arr = ax.set_xticklabels(labels=x_dates, rotation=45, ha='right')"
   ]
  }
 ],
 "metadata": {
  "kernelspec": {
   "display_name": "Python 3 (ipykernel)",
   "language": "python",
   "name": "python3"
  },
  "language_info": {
   "codemirror_mode": {
    "name": "ipython",
    "version": 3
   },
   "file_extension": ".py",
   "mimetype": "text/x-python",
   "name": "python",
   "nbconvert_exporter": "python",
   "pygments_lexer": "ipython3",
   "version": "3.9.12"
  }
 },
 "nbformat": 4,
 "nbformat_minor": 5
}
