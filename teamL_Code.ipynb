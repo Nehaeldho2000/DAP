{
 "cells": [
  {
   "cell_type": "code",
   "execution_count": 30,
   "id": "585db46e",
   "metadata": {},
   "outputs": [],
   "source": [
    "import matplotlib.pyplot as plt\n",
    "import pandas as pd\n",
    "import json\n",
    "import urllib.request\n",
    "import xml.etree.ElementTree as ET\n",
    "import plotly.graph_objects as go\n",
    "import plotly.io as pio\n",
    "import psycopg2\n",
    "import seaborn as sns\n",
    "import datetime\n",
    "\n",
    "from datetime import datetime\n",
    "from pymongo import MongoClient"
   ]
  },
  {
   "cell_type": "code",
   "execution_count": 31,
   "id": "13a4800a",
   "metadata": {},
   "outputs": [],
   "source": [
    "# Connecting to MongoDB\n",
    "mongo_client = MongoClient(\"mongodb://localhost:27017/\")\n",
    "project_db = mongo_client[\"projectdb\"]"
   ]
  },
  {
   "cell_type": "code",
   "execution_count": 32,
   "id": "f15a2167",
   "metadata": {
    "scrolled": true
   },
   "outputs": [
    {
     "name": "stdout",
     "output_type": "stream",
     "text": [
      "Inserted unemployment_statistics document count:  1689\n"
     ]
    }
   ],
   "source": [
    "# Reading unemployment-statistics data\n",
    "unemployment_statistics_url = \"https://data.ny.gov/api/views/dh9m-5v4d/rows.json?accessType=DOWNLOAD\"\n",
    "unemployment_statistics_response = urllib.request.urlopen(unemployment_statistics_url)\n",
    "unemployment_statistics_data = json.loads(unemployment_statistics_response.read())\n",
    "\n",
    "# inserting into mongoDB\n",
    "unemployment_statistics_collection = project_db[\"unemployment_statistics\"]\n",
    "# deleting extising data\n",
    "unemployment_statistics_collection.drop()\n",
    "\n",
    "cols = unemployment_statistics_data[\"meta\"][\"view\"][\"columns\"]\n",
    "cols_without_minus_one = filter(lambda val: val[\"id\"] != -1, cols)\n",
    "unemployment_statistics_cols = list(cols_without_minus_one)\n",
    "\n",
    "unemployment_statistics_cols_others_len = len(list(filter(lambda val: val[\"id\"] == -1, cols)))\n",
    "\n",
    "for row in unemployment_statistics_data[\"data\"]:\n",
    "    db_row = {}\n",
    "    for col_meta in unemployment_statistics_cols:\n",
    "        data_value_index = int(col_meta[\"position\"]) + unemployment_statistics_cols_others_len - 1\n",
    "        db_row[col_meta[\"fieldName\"]] = row[data_value_index]\n",
    "    unemployment_statistics_collection.insert_one(db_row)\n",
    "\n",
    "print(\"Inserted unemployment_statistics document count: \", unemployment_statistics_collection.count_documents({}))"
   ]
  },
  {
   "cell_type": "code",
   "execution_count": 4,
   "id": "92df5a6f",
   "metadata": {},
   "outputs": [
    {
     "name": "stdout",
     "output_type": "stream",
     "text": [
      "Inserted air_quality document count:  1022\n"
     ]
    }
   ],
   "source": [
    "# Reading covid_cases\n",
    "covid_cases_url = \"https://data.cityofnewyork.us/api/views/rc75-m7u3/rows.json?accessType=DOWNLOAD\"\n",
    "covid_cases_response = urllib.request.urlopen(covid_cases_url)\n",
    "covid_cases_data = json.loads(covid_cases_response.read())\n",
    "\n",
    "# inserting into mongoDB\n",
    "covid_cases_collection = project_db[\"covid_cases\"]\n",
    "# deleting extising data\n",
    "covid_cases_collection.drop()\n",
    "\n",
    "\n",
    "covid_cases_cols = list(filter(lambda val: val[\"id\"] != -1, covid_cases_data[\"meta\"][\"view\"][\"columns\"]))\n",
    "covid_cases_cols_others_len = len(list(filter(lambda val: val[\"id\"] == -1, covid_cases_data[\"meta\"][\"view\"][\"columns\"])))\n",
    "\n",
    "\n",
    "for row in covid_cases_data[\"data\"]:\n",
    "    db_row = {}\n",
    "    for col in covid_cases_cols:\n",
    "        db_row[col[\"fieldName\"].lower()] = row[int(col[\"position\"]) + covid_cases_cols_others_len - 1]\n",
    "    covid_cases_collection.insert_one(db_row)\n",
    "\n",
    "print(\"Inserted air_quality document count: \",covid_cases_collection.count_documents({}))"
   ]
  },
  {
   "cell_type": "code",
   "execution_count": 5,
   "id": "7170d90b",
   "metadata": {},
   "outputs": [
    {
     "name": "stdout",
     "output_type": "stream",
     "text": [
      "Inserted air_quality document count:  16122\n"
     ]
    }
   ],
   "source": [
    "# Reading air_quality\n",
    "air_quality_url = \"https://data.cityofnewyork.us/api/views/c3uy-2p5r/rows.xml?accessType=DOWNLOAD\"\n",
    "air_quality_response = urllib.request.urlopen(air_quality_url)\n",
    "air_quality_xml = ET.parse(air_quality_response)\n",
    "air_quality_xml_root = air_quality_xml.getroot()\n",
    "air_quality_data = []\n",
    "\n",
    "# inserting into mongoDB\n",
    "air_quality_collection = project_db[\"air_quality\"]\n",
    "# deleting extising data\n",
    "air_quality_collection.drop()\n",
    "\n",
    "for row in air_quality_xml_root[0].findall('row'):\n",
    "    air_quality_data_row = {}\n",
    "    for elem in row.iter():\n",
    "        if elem is not row:\n",
    "            key = elem.tag.lower()\n",
    "            value = elem.text\n",
    "            #{\"key\":\"value\"}             \n",
    "            air_quality_data_row[key] = value\n",
    "    if len(air_quality_data_row) != 0:\n",
    "        air_quality_collection.insert_one(air_quality_data_row)\n",
    "print(\"Inserted air_quality document count: \", air_quality_collection.count_documents({}))"
   ]
  },
  {
   "cell_type": "code",
   "execution_count": null,
   "id": "42096cef",
   "metadata": {},
   "outputs": [],
   "source": [
    "#  MongoDB collections\n",
    "# 1. unemployment_statistics_collection\n",
    "# 2. covid_cases_collection\n",
    "# 3. air_quality_collection"
   ]
  },
  {
   "cell_type": "code",
   "execution_count": 33,
   "id": "b4c1da4d",
   "metadata": {},
   "outputs": [],
   "source": [
    "# creating table in postgress\n",
    "conn = psycopg2.connect(database=\"postgres\",\n",
    "                        host=\"localhost\",\n",
    "                        user=\"postgres\",\n",
    "                        password=\"admin\",\n",
    "                        port=\"5432\")\n",
    "\n",
    "cursor = conn.cursor()\n",
    "cursor.execute(\"DROP TABLE IF EXISTS unemployment_statistics;CREATE TABLE unemployment_statistics (unemployment_statistics_id serial PRIMARY KEY, date_of_interest TIMESTAMP NOT NULL, area VARCHAR(255), labor_force BIGINT, employed BIGINT, unemployed BIGINT, unemployment_rate REAL);\")\n",
    "cursor.execute(\"DROP TABLE IF EXISTS covid_cases;CREATE TABLE covid_cases (covid_cases_id serial PRIMARY KEY, date_of_interest TIMESTAMP NOT NULL, case_count INTEGER);\")\n",
    "cursor.execute(\"DROP TABLE IF EXISTS air_quality;CREATE TABLE air_quality (air_quality_id serial PRIMARY KEY, date_of_interest TIMESTAMP NOT NULL, data_value REAL);\")\n",
    "\n",
    "conn.commit()"
   ]
  },
  {
   "cell_type": "code",
   "execution_count": 34,
   "id": "79ad211a",
   "metadata": {},
   "outputs": [],
   "source": [
    "unemployment_statistics_collection = project_db[\"unemployment_statistics\"]\n",
    "query = \"\"\"INSERT INTO unemployment_statistics \n",
    "    (date_of_interest, area, labor_force, employed, unemployed, unemployment_rate) \n",
    "    VALUES (%s,%s,%s,%s,%s,%s)\"\"\"\n",
    "cursor = conn.cursor()\n",
    "for row in unemployment_statistics_collection.find():\n",
    "    date = row[\"year\"]+\"-\"+row[\"month\"]+\"-01\"\n",
    "    cursor.execute(query, (date, row[\"area\"], row[\"labor_force\"], row[\"employed\"], \n",
    "                           row[\"unemployed\"], row[\"unemployment_rate\"]))\n",
    "cursor.close()\n",
    "conn.commit()"
   ]
  },
  {
   "cell_type": "code",
   "execution_count": 35,
   "id": "7c18c658",
   "metadata": {},
   "outputs": [],
   "source": [
    "covid_cases_collection = project_db[\"covid_cases\"]\n",
    "\n",
    "cursor = conn.cursor()\n",
    "for row in covid_cases_collection.find():\n",
    "    date = row[\"date_of_interest\"]\n",
    "    cursor.execute(\"INSERT INTO covid_cases (date_of_interest, case_count) VALUES (%s,%s)\", \n",
    "                   (date, row[\"case_count\"]))\n",
    "cursor.close()\n",
    "conn.commit()"
   ]
  },
  {
   "cell_type": "code",
   "execution_count": 36,
   "id": "73f4f1c3",
   "metadata": {},
   "outputs": [],
   "source": [
    "air_quality_collection = project_db[\"air_quality\"]\n",
    "\n",
    "cursor = conn.cursor()\n",
    "for row in air_quality_collection.find():\n",
    "    date = row[\"start_date\"]\n",
    "    cursor.execute(\"INSERT INTO air_quality (date_of_interest, data_value) VALUES (%s,%s)\", \n",
    "                   (date, row[\"data_value\"]))\n",
    "cursor.close()\n",
    "conn.commit()"
   ]
  },
  {
   "cell_type": "code",
   "execution_count": 37,
   "id": "da42497a",
   "metadata": {},
   "outputs": [],
   "source": [
    "cursor = conn.cursor();\n",
    "query = \"\"\"\n",
    "SELECT date_of_interest, AVG(unemployment_rate)\n",
    "    FROM unemployment_statistics \n",
    "    WHERE date_of_interest >= '2020-01-01' and date_of_interest < '2021-01-01'\n",
    "    GROUP BY date_of_interest ORDER BY date_of_interest ASC \n",
    "\n",
    "\"\"\"\n",
    "\n",
    "    \n",
    "cursor.execute(query)\n",
    "unemployment_rate_data = cursor.fetchall()\n",
    "cursor.close()"
   ]
  },
  {
   "cell_type": "code",
   "execution_count": 38,
   "id": "7c06a6e0",
   "metadata": {},
   "outputs": [
    {
     "data": {
      "image/png": "[encoded data removed]",
      "text/plain": [
       "<Figure size 864x432 with 1 Axes>"
      ]
     },
     "metadata": {
      "needs_background": "light"
     },
     "output_type": "display_data"
    }
   ],
   "source": [
    "\n",
    "unemployment_rate_df = pd.DataFrame(data = unemployment_rate_data,\n",
    "                                   columns=[\"Date\",\n",
    "                                            \"Unemployment Rate\"])\n",
    "# x_dates = unemployment_rate_df['Date'].dt.strftime('%Y-%m-%d').sort_values().unique()\n",
    "\n",
    "fig, ax = plt.subplots(figsize = (12,6))\n",
    "\n",
    "fig = sns.lineplot(\n",
    "    data=unemployment_rate_df, \n",
    "    x=\"Date\", \n",
    "    y=\"Unemployment Rate\",\n",
    "    estimator=sum,\n",
    "    ax=ax\n",
    ")\n",
    "\n",
    "\n"
   ]
  },
  {
   "cell_type": "code",
   "execution_count": 39,
   "id": "c66711e6",
   "metadata": {},
   "outputs": [
    {
     "data": {
      "image/png": "[encoded data removed]",
      "text/plain": [
       "<Figure size 864x432 with 1 Axes>"
      ]
     },
     "metadata": {
      "needs_background": "light"
     },
     "output_type": "display_data"
    }
   ],
   "source": [
    "cursor = conn.cursor();\n",
    "cursor.execute(\"\"\"SELECT date_of_interest, avg(case_count) \n",
    "    FROM covid_cases  \n",
    "    WHERE date_of_interest >= '2020-01-01' and date_of_interest < '2021-01-01'\n",
    "    group by date_of_interest order by date_of_interest asc\"\"\")\n",
    "covid_cases_data = cursor.fetchall()\n",
    "cursor.close()\n",
    "\n",
    "\n",
    "covid_cases_data_df = pd.DataFrame(data = covid_cases_data,\n",
    "                                   columns=[\"Date\",\n",
    "                                            \"Covid Case Count\"])\n",
    "fig, ax = plt.subplots(figsize = (12,6))\n",
    "\n",
    "fig = sns.scatterplot(data = covid_cases_data_df, \n",
    "                   x=\"Date\", \n",
    "                   y=\"Covid Case Count\",\n",
    "                   ax=ax\n",
    "                  )\n",
    "\n"
   ]
  },
  {
   "cell_type": "code",
   "execution_count": 43,
   "id": "c88dab88",
   "metadata": {},
   "outputs": [
    {
     "data": {
      "image/png": "[encoded data removed]",
      "text/plain": [
       "<Figure size 864x432 with 1 Axes>"
      ]
     },
     "metadata": {
      "needs_background": "light"
     },
     "output_type": "display_data"
    }
   ],
   "source": [
    "cursor = conn.cursor();\n",
    "query = \"\"\"\n",
    "SELECT date_of_interest, avg(data_value) \n",
    "    FROM air_quality\n",
    "    WHERE date_of_interest >= '2020-01-01' and date_of_interest < '2022-01-01'\n",
    "    GROUP BY  date_of_interest order by date_of_interest asc\n",
    "\"\"\"\n",
    "cursor.execute(query)\n",
    "air_quality_data = cursor.fetchall()\n",
    "cursor.close()\n",
    "\n",
    "\n",
    "air_quality_data_modified = []\n",
    "for x in range(12):\n",
    "    date = datetime(2020, x+1, 1)\n",
    "    if x < 6:\n",
    "        key, value = air_quality_data[0]\n",
    "        air_quality_data_modified.append((date, value))\n",
    "    else:\n",
    "        key, value = air_quality_data[1]\n",
    "        air_quality_data_modified.append((date, value))\n",
    "\n",
    "air_quality_data_df = pd.DataFrame(data = air_quality_data_modified,\n",
    "                                   columns=[\"Date\", \"Air Quality Data Value\"])\n",
    "fig, ax = plt.subplots(figsize = (12,6))\n",
    "\n",
    "fig = sns.barplot(data = air_quality_data_df, x=\"Date\", y=\"Air Quality Data Value\", ax=ax)\n",
    "\n",
    "x_dates = air_quality_data_df['Date'].dt.strftime('%Y-%m-%d').sort_values().unique()\n",
    "arr = ax.set_xticklabels(labels=x_dates, rotation=45, ha='right')\n"
   ]
  },
  {
   "cell_type": "code",
   "execution_count": 50,
   "id": "0b947708",
   "metadata": {},
   "outputs": [],
   "source": [
    "# grouping data based on  month\n",
    "air_quality_data_df = air_quality_data_df.groupby(pd.PeriodIndex(air_quality_data_df['Date'], freq=\"M\"))[\"Air Quality Data Value\"].mean().reset_index()\n",
    "covid_cases_data_df = covid_cases_data_df.groupby(pd.PeriodIndex(covid_cases_data_df['Date'], freq=\"M\"))[\"Covid Case Count\"].mean().reset_index()\n",
    "unemployment_rate_df = unemployment_rate_df.groupby(pd.PeriodIndex(unemployment_rate_df['Date'], freq=\"M\"))[\"Unemployment Rate\"].mean().reset_index()\n",
    "\n",
    "# merging all data\n",
    "covid_cases_air_quality_df = pd.merge(air_quality_data_df, covid_cases_data_df, how=\"outer\", on =\"Date\")\n",
    "all_data = pd.merge(covid_cases_air_quality_df, unemployment_rate_df, how=\"left\", on =\"Date\")\n",
    "\n",
    "# filling emtpy value with 0\n",
    "all_data[\"Air Quality Data Value\"] = all_data[\"Air Quality Data Value\"].fillna(0)\n",
    "all_data[\"Covid Case Count\"] = all_data[\"Covid Case Count\"].fillna(0)\n",
    "all_data[\"Unemployment Rate\"] = all_data[\"Unemployment Rate\"].fillna(0)\n",
    "\n",
    "# 01-2020 > 01-01-2020\n",
    "all_data['Date'] = all_data['Date'].dt.strftime('%Y-%m-01')\n",
    "\n",
    "\n"
   ]
  },
  {
   "cell_type": "code",
   "execution_count": 48,
   "id": "63931734",
   "metadata": {},
   "outputs": [
    {
     "name": "stderr",
     "output_type": "stream",
     "text": [
      "C:\\Users\\karthi\\AppData\\Local\\Temp\\ipykernel_32160\\625260525.py:13: UserWarning: FixedFormatter should only be used together with FixedLocator\n",
      "  arr = ax1.set_xticklabels(labels=x_dates, rotation=45, ha='right')\n"
     ]
    },
    {
     "data": {
      "image/png": "[encoded data removed]",
      "text/plain": [
       "<Figure size 648x432 with 2 Axes>"
      ]
     },
     "metadata": {},
     "output_type": "display_data"
    }
   ],
   "source": [
    "fig, ax1 = plt.subplots(figsize=(9, 6))\n",
    "ax2 = ax1.twinx()  \n",
    "ax2.set_ylim(4, 20);\n",
    "\n",
    "COLOR_UNEMPLOYMENT = \"#3399e6\"\n",
    "COLOR_AIR_QUALITY = \"#69b3a2\"\n",
    "\n",
    "#left side y axis\n",
    "ax1.bar(all_data[\"Date\"], all_data[\"Unemployment Rate\"], color=COLOR_UNEMPLOYMENT) \n",
    "ax1.set_ylabel(\"Unemployment Rate\", color=COLOR_UNEMPLOYMENT, fontsize=14)\n",
    "ax1.tick_params(axis=\"y\", labelcolor=COLOR_UNEMPLOYMENT)\n",
    "x_dates = unemployment_rate_df['Date'].dt.strftime('%Y-%m-%d').sort_values().unique()\n",
    "arr = ax1.set_xticklabels(labels=x_dates, rotation=45, ha='right')\n",
    "\n",
    "#right side y axis\n",
    "ax2.scatter(all_data[\"Date\"], all_data[\"Air Quality Data Value\"], \n",
    "            s = all_data[\"Unemployment Rate\"], color=COLOR_AIR_QUALITY) \n",
    "ax2.set_ylabel(\"Air Quality Data Value\", color=COLOR_AIR_QUALITY, fontsize=14)\n",
    "ax2.tick_params(axis=\"y\", labelcolor=COLOR_AIR_QUALITY)"
   ]
  },
  {
   "cell_type": "code",
   "execution_count": null,
   "id": "8b40ce74",
   "metadata": {},
   "outputs": [],
   "source": []
  },
  {
   "cell_type": "code",
   "execution_count": null,
   "id": "6bf25a6e",
   "metadata": {},
   "outputs": [],
   "source": []
  }
 ],
 "metadata": {
  "kernelspec": {
   "display_name": "Python 3 (ipykernel)",
   "language": "python",
   "name": "python3"
  },
  "language_info": {
   "codemirror_mode": {
    "name": "ipython",
    "version": 3
   },
   "file_extension": ".py",
   "mimetype": "text/x-python",
   "name": "python",
   "nbconvert_exporter": "python",
   "pygments_lexer": "ipython3",
   "version": "3.9.12"
  }
 },
 "nbformat": 4,
 "nbformat_minor": 5
}
