{
 "cells": [
  {
   "cell_type": "code",
   "execution_count": null,
   "id": "e7f081d5",
   "metadata": {},
   "outputs": [],
   "source": [
    "# Extracted and Inserted JSON data to MongoDB(COVID Dataset)\n",
    "\n",
    "# Reading covid_cases\n",
    "covid_cases_url = \"https://data.cityofnewyork.us/api/views/rc75-m7u3/rows.json?accessType=DOWNLOAD\"\n",
    "covid_cases_response = urllib.request.urlopen(covid_cases_url)\n",
    "covid_cases_data = json.loads(covid_cases_response.read())\n",
    "\n",
    "# inserting into mongoDB\n",
    "covid_cases_collection = project_db[\"covid_cases\"]\n",
    "# deleting extising data\n",
    "covid_cases_collection.drop()\n",
    "\n",
    "\n",
    "covid_cases_cols = list(filter(lambda val: val[\"id\"] != -1, covid_cases_data[\"meta\"][\"view\"][\"columns\"]))\n",
    "covid_cases_cols_others_len = len(list(filter(lambda val: val[\"id\"] == -1, covid_cases_data[\"meta\"][\"view\"][\"columns\"])))\n",
    "\n",
    "\n",
    "for row in covid_cases_data[\"data\"]:\n",
    "    db_row = {}\n",
    "    for col in covid_cases_cols:\n",
    "        db_row[col[\"fieldName\"].lower()] = row[int(col[\"position\"]) + covid_cases_cols_others_len - 1]\n",
    "    covid_cases_collection.insert_one(db_row)\n",
    "\n",
    "print(\"Inserted air_quality document count: \",covid_cases_collection.count_documents({}))"
   ]
  },
  {
   "cell_type": "code",
   "execution_count": null,
   "id": "23ac33a9",
   "metadata": {},
   "outputs": [],
   "source": [
    "##inserted values in covid table\n",
    "\n",
    "covid_cases_collection = project_db[\"covid_cases\"]\n",
    "\n",
    "cursor = conn.cursor()\n",
    "for row in covid_cases_collection.find():\n",
    "    date = row[\"date_of_interest\"]\n",
    "    cursor.execute(\"INSERT INTO covid_cases (date_of_interest, case_count) VALUES (%s,%s)\", \n",
    "                   (date, row[\"case_count\"]))\n",
    "cursor.close()\n",
    "conn.commit()"
   ]
  },
  {
   "cell_type": "code",
   "execution_count": null,
   "id": "5c35d822",
   "metadata": {},
   "outputs": [],
   "source": [
    "#Plots using Matplot library(4th plot)\n",
    "\n",
    "fig, ax1 = plt.subplots(figsize=(9, 6))\n",
    "ax2 = ax1.twinx()  \n",
    "ax2.set_ylim(4, 20);\n",
    "\n",
    "COLOR_UNEMPLOYMENT = \"#3399e6\"\n",
    "COLOR_AIR_QUALITY = \"#69b3a2\"\n",
    "\n",
    "#left side y axis\n",
    "ax1.bar(all_data[\"Date\"], all_data[\"Unemployment Rate\"], color=COLOR_UNEMPLOYMENT) \n",
    "ax1.set_ylabel(\"Unemployment Rate\", color=COLOR_UNEMPLOYMENT, fontsize=14)\n",
    "ax1.tick_params(axis=\"y\", labelcolor=COLOR_UNEMPLOYMENT)\n",
    "x_dates = unemployment_rate_df['Date'].dt.strftime('%Y-%m-%d').sort_values().unique()\n",
    "arr = ax1.set_xticklabels(labels=x_dates, rotation=45, ha='right')\n",
    "\n",
    "#right side y axis\n",
    "ax2.scatter(all_data[\"Date\"], all_data[\"Air Quality Data Value\"], \n",
    "            s = all_data[\"Unemployment Rate\"], color=COLOR_AIR_QUALITY) \n",
    "ax2.set_ylabel(\"Air Quality Data Value\", color=COLOR_AIR_QUALITY, fontsize=14)\n",
    "ax2.tick_params(axis=\"y\", labelcolor=COLOR_AIR_QUALITY)"
   ]
  }
 ],
 "metadata": {
  "kernelspec": {
   "display_name": "Python 3 (ipykernel)",
   "language": "python",
   "name": "python3"
  },
  "language_info": {
   "codemirror_mode": {
    "name": "ipython",
    "version": 3
   },
   "file_extension": ".py",
   "mimetype": "text/x-python",
   "name": "python",
   "nbconvert_exporter": "python",
   "pygments_lexer": "ipython3",
   "version": "3.9.12"
  }
 },
 "nbformat": 4,
 "nbformat_minor": 5
}
