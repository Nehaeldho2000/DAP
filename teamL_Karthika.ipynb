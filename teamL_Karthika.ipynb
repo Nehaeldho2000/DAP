{
 "cells": [
  {
   "cell_type": "code",
   "execution_count": null,
   "id": "8ad24e6a",
   "metadata": {},
   "outputs": [],
   "source": [
    "#Inserted JSON data to MongoDB(Unemployment dataset)\n",
    "\n",
    "\n",
    "# Reading unemployment-statistics data\n",
    "unemployment_statistics_url = \"https://data.ny.gov/api/views/dh9m-5v4d/rows.json?accessType=DOWNLOAD\"\n",
    "unemployment_statistics_response = urllib.request.urlopen(unemployment_statistics_url)\n",
    "unemployment_statistics_data = json.loads(unemployment_statistics_response.read())\n",
    "\n",
    "# inserting data into mongoDB\n",
    "unemployment_statistics_collection = project_db[\"unemployment_statistics\"]\n",
    "# deleting extising data\n",
    "unemployment_statistics_collection.drop()\n",
    "\n",
    "cols = unemployment_statistics_data[\"meta\"][\"view\"][\"columns\"]\n",
    "cols_without_minus_one = filter(lambda val: val[\"id\"] != -1, cols)\n",
    "unemployment_statistics_cols = list(cols_without_minus_one)\n",
    "\n",
    "unemployment_statistics_cols_others_len = len(list(filter(lambda val: val[\"id\"] == -1, cols)))\n",
    "\n",
    "for row in unemployment_statistics_data[\"data\"]:\n",
    "    db_row = {}\n",
    "    for col_meta in unemployment_statistics_cols:\n",
    "        data_value_index = int(col_meta[\"position\"]) + unemployment_statistics_cols_others_len - 1\n",
    "        db_row[col_meta[\"fieldName\"]] = row[data_value_index]\n",
    "    unemployment_statistics_collection.insert_one(db_row)\n",
    "\n",
    "print(\"Inserted unemployment_statistics document count is; \", unemployment_statistics_collection.count_documents({}))"
   ]
  },
  {
   "cell_type": "code",
   "execution_count": null,
   "id": "bed22e00",
   "metadata": {},
   "outputs": [],
   "source": [
    "# creating table in postgress\n",
    "conn = psycopg2.connect(database=\"postgres\",\n",
    "                        host=\"localhost\",\n",
    "                        user=\"postgres\",\n",
    "                        password=\"admin\",\n",
    "                        port=\"5432\")\n",
    "\n",
    "cursor = conn.cursor()\n",
    "cursor.execute(\"DROP TABLE IF EXISTS unemployment_statistics;CREATE TABLE unemployment_statistics (unemployment_statistics_id serial PRIMARY KEY, date_of_interest TIMESTAMP NOT NULL, area VARCHAR(255), labor_force BIGINT, employed BIGINT, unemployed BIGINT, unemployment_rate REAL);\")\n",
    "cursor.execute(\"DROP TABLE IF EXISTS covid_cases;CREATE TABLE covid_cases (covid_cases_id serial PRIMARY KEY, date_of_interest TIMESTAMP NOT NULL, case_count INTEGER);\")\n",
    "cursor.execute(\"DROP TABLE IF EXISTS air_quality;CREATE TABLE air_quality (air_quality_id serial PRIMARY KEY, date_of_interest TIMESTAMP NOT NULL, data_value REAL);\")\n",
    "\n",
    "conn.commit()"
   ]
  },
  {
   "cell_type": "code",
   "execution_count": null,
   "id": "85ce5b9a",
   "metadata": {},
   "outputs": [],
   "source": [
    "# inserted values in unemployment table\n",
    "unemployment_statistics_collection = project_db[\"unemployment_statistics\"]\n",
    "query = \"\"\"INSERT INTO unemployment_statistics \n",
    "    (date_of_interest, area, labor_force, employed, unemployed, unemployment_rate) \n",
    "    VALUES (%s,%s,%s,%s,%s,%s)\"\"\"\n",
    "cursor = conn.cursor()\n",
    "for row in unemployment_statistics_collection.find():\n",
    "    date = row[\"year\"]+\"-\"+row[\"month\"]+\"-01\"\n",
    "    cursor.execute(query, (date, row[\"area\"], row[\"labor_force\"], row[\"employed\"], \n",
    "                           row[\"unemployed\"], row[\"unemployment_rate\"]))\n",
    "cursor.close()"
   ]
  },
  {
   "cell_type": "code",
   "execution_count": null,
   "id": "a8edaab9",
   "metadata": {},
   "outputs": [],
   "source": [
    "# Plots using seaborn library (1st plot)\n",
    "cursor = conn.cursor();\n",
    "query = \"\"\"\n",
    "SELECT date_of_interest, AVG(unemployment_rate)\n",
    "    FROM unemployment_statistics \n",
    "    WHERE date_of_interest >= '2020-01-01' and date_of_interest < '2021-01-01'\n",
    "    GROUP BY date_of_interest ORDER BY date_of_interest ASC \n",
    "\n",
    "\"\"\"\n",
    "\n",
    "    \n",
    "cursor.execute(query)\n",
    "unemployment_rate_data = cursor.fetchall()\n",
    "cursor.close()\n",
    "\n",
    "    \n",
    "    \n",
    "unemployment_rate_df = pd.DataFrame(data = unemployment_rate_data,\n",
    "                                   columns=[\"Date\",\n",
    "                                            \"Unemployment Rate\"])\n",
    "# x_dates = unemployment_rate_df['Date'].dt.strftime('%Y-%m-%d').sort_values().unique()\n",
    "\n",
    "fig, ax = plt.subplots(figsize = (12,6))\n",
    "\n",
    "fig = sns.lineplot(\n",
    "    data=unemployment_rate_df, \n",
    "    x=\"Date\", \n",
    "    y=\"Unemployment Rate\",\n",
    "    estimator=sum,\n",
    "    ax=ax\n",
    ")\n",
    "\n"
   ]
  },
  {
   "cell_type": "code",
   "execution_count": null,
   "id": "d684f8d7",
   "metadata": {},
   "outputs": [],
   "source": []
  }
 ],
 "metadata": {
  "kernelspec": {
   "display_name": "Python 3 (ipykernel)",
   "language": "python",
   "name": "python3"
  },
  "language_info": {
   "codemirror_mode": {
    "name": "ipython",
    "version": 3
   },
   "file_extension": ".py",
   "mimetype": "text/x-python",
   "name": "python",
   "nbconvert_exporter": "python",
   "pygments_lexer": "ipython3",
   "version": "3.9.12"
  }
 },
 "nbformat": 4,
 "nbformat_minor": 5
}
